{
 "cells": [
  {
   "cell_type": "markdown",
   "metadata": {},
   "source": [
    "<a href=\"https://githubtocolab.com/jmvazqueznicolas/sistemas_inteligentes_23-1/blob/master/P3_Sistemas%20Inteligentes.ipynb\" target=\"_parent\"><img src=\"https://colab.research.google.com/assets/colab-badge.svg\" alt=\"Open in Colab\"/></a>"
   ]
  },
  {
   "cell_type": "markdown",
   "metadata": {},
   "source": [
    "## Práctica 3. Sistemas Inteligentes\n",
    "\n",
    "### Objetivos\n",
    "#### 1.- Que el alumno conozca las funcionalidades de la biblioteca Numpy.\n",
    "#### 2.- Que el alumno grafique funciones con matplotlib.\n",
    "#### 3.- Que el alumno manipule archivos.\n",
    "\n",
    "### Marco teórico\n",
    "#### El alumno debe investigar la utilidad y aplicaciones de las bibliotecas Numpy y matplotlib."
   ]
  },
  {
   "cell_type": "markdown",
   "metadata": {},
   "source": [
    "### Desarrollo"
   ]
  },
  {
   "cell_type": "markdown",
   "metadata": {},
   "source": [
    "### 1.- Escribe un programa que guarde en un arreglo de Numpy, los primero 5 números de Fermat. Modifiquelo para que guarde los primeros 100. Hint: primero haga el cálculo con su calculadora $F_{n} = 2^{2^n} + 1$"
   ]
  },
  {
   "cell_type": "code",
   "execution_count": null,
   "metadata": {},
   "outputs": [],
   "source": []
  },
  {
   "cell_type": "markdown",
   "metadata": {},
   "source": [
    "### 2.- Haga un programa que grafique la función seno. Para ello se le debe pedir al usuario los valores inicial y final así como el intervalo para la gráfica. Modifique el programa para que se grafique la función coseno, en el mismo intervalo. "
   ]
  },
  {
   "cell_type": "code",
   "execution_count": null,
   "metadata": {},
   "outputs": [],
   "source": []
  },
  {
   "cell_type": "markdown",
   "metadata": {},
   "source": [
    "### 3.- Haga un programa que implemente los métodos para realizar para realizar cálculos con NumPy previamente revisados. Estas operaciones se harán con los Consumer Reach Points (CRPs), de las siguientes marcas de la tabla. Modifica el programa para que tambien haga los cálculos con las demas columnas numericas de la tabla.\n",
    "<img src=\"https://www.foodretail.es/2015/07/09/retailers/Coca-Cola-Colgate-marcas-mundiales-elegidas_906219374_91946_660x372.jpg\" width=400 height=400 />"
   ]
  },
  {
   "cell_type": "code",
   "execution_count": null,
   "metadata": {},
   "outputs": [],
   "source": []
  },
  {
   "cell_type": "markdown",
   "metadata": {},
   "source": [
    "### 4.- Escriba un programa que guarde un archivo de texto (txt) los datos de la población de los siguientes estados de la república mexicana. Posteriormente abra el archivo y muestre el contenido. Posteriormente modifica el programa para que lo guarde en formato csv.\n",
    "\n",
    "<img src=\"https://www.milenio.com/uploads/media/2020/02/20/los-estados-mas-poblados-inegi.png\" alt=\"estados\" border=\"0\">\n"
   ]
  }
 ],
 "metadata": {
  "kernelspec": {
   "display_name": "Python 3 (ipykernel)",
   "language": "python",
   "name": "python3"
  },
  "language_info": {
   "codemirror_mode": {
    "name": "ipython",
    "version": 3
   },
   "file_extension": ".py",
   "mimetype": "text/x-python",
   "name": "python",
   "nbconvert_exporter": "python",
   "pygments_lexer": "ipython3",
   "version": "3.8.10"
  }
 },
 "nbformat": 4,
 "nbformat_minor": 2
}
