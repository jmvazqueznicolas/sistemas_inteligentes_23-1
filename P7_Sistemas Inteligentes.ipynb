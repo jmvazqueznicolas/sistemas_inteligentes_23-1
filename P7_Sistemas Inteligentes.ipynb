{
  "nbformat": 4,
  "nbformat_minor": 0,
  "metadata": {
    "orig_nbformat": 4,
    "colab": {
      "name": "P7_Sistemas Inteligentes.ipynb",
      "provenance": []
    },
    "language_info": {
      "name": "python"
    },
    "kernelspec": {
      "name": "python3",
      "display_name": "Python 3"
    }
  },
  "cells": [
    {
      "cell_type": "markdown",
      "metadata": {
        "id": "snN-sMQLJ0zg"
      },
      "source": [
        "<a href=\"https://githubtocolab.com/jmvazqueznicolas/sistemas_inteligentes_22-3/blob/master/P7_Sistemas%20Inteligentes.ipynb\" target=\"_parent\"><img src=\"https://colab.research.google.com/assets/colab-badge.svg\" alt=\"Open in Colab\"/></a>"
      ]
    },
    {
      "cell_type": "markdown",
      "metadata": {
        "id": "MhMIZnrqJ0zm"
      },
      "source": [
        "## Práctica 7. Sistemas Inteligentes\n",
        "\n",
        "### Objetivos\n",
        "#### 1.- Que el alumno implemente algoritmos de aprendizaje no supervisado.\n",
        "### Marco teórico\n",
        "#### El alumno debe investigar acerca del aprendizaje no supervisado (agrupación y reducción de dimensionalidad)."
      ]
    },
    {
      "cell_type": "markdown",
      "metadata": {
        "id": "A8KnDhznJ0zo"
      },
      "source": [
        "### Desarrollo"
      ]
    },
    {
      "cell_type": "markdown",
      "metadata": {
        "id": "3S8-F-WKJ0zs"
      },
      "source": [
        "### 1.- Crea un programa que permita implementar un algoritmos de agrupamiento y reducción de dimensionalidad en el conjunto de datos [Iris Dataset](https://es.wikipedia.org/wiki/Conjunto_de_datos_flor_iris).\n",
        "<img src=\"https://miro.medium.com/max/1000/0*oUoXifiKu3tT5REt.png\" width=450 height=250 />"
      ]
    },
    {
      "cell_type": "code",
      "metadata": {
        "id": "JMxolmJOJ0zs"
      },
      "source": [
        "# Investiga como importar y cargar el dataset de iris con scikit-learn\n",
        "# Tu código empieza aquí\n",
        "\n",
        "# Tu código termina aquí\n",
        "\n",
        "print('Esto es data', iris.data)\n",
        "print('Esto es target', iris.target)"
      ],
      "execution_count": null,
      "outputs": []
    },
    {
      "cell_type": "code",
      "metadata": {
        "id": "1wp5PgraNbrY"
      },
      "source": [
        "# Importa la biblioteca de pandas\n",
        "# Tu código empieza aquí\n",
        "\n",
        "# Tu código termina aquí\n",
        "\n",
        "iris_df = pd.DataFrame(iris.data, columns=iris.feature_names)\n",
        "iris_df['species'] = [iris.target_names[i] for i in iris.target]\n",
        "iris_df.head(10)"
      ],
      "execution_count": null,
      "outputs": []
    },
    {
      "cell_type": "code",
      "metadata": {
        "id": "pRT_50Os8zsA"
      },
      "source": [
        "# Visualización\n",
        "# Importa la libreria de seaborn\n",
        "# Tu código empieza aquí\n",
        "\n",
        "# Tu código termina aquí\n",
        "\n",
        "sns.set(font_scale = 1.1)\n",
        "sns.set_style('whitegrid')\n",
        "\n",
        "grid = sns.pairplot(data=iris_df, vars=iris_df.columns[0:4], hue=\"species\")"
      ],
      "execution_count": null,
      "outputs": []
    },
    {
      "cell_type": "code",
      "source": [
        "# Investiga como se instala un paquete de Python\n",
        "# dentro de Colab e instala plotly_express. \n",
        "# Posteriomente importalo como px.\n",
        "# Tu código empieza aquí\n",
        "\n",
        "# Tu código termina aquí"
      ],
      "metadata": {
        "id": "f3c-k4hU3qGb"
      },
      "execution_count": null,
      "outputs": []
    },
    {
      "cell_type": "code",
      "source": [
        "px.scatter_3d(iris_df, x=\"petal length (cm)\", y=\"sepal width (cm)\", z=\"sepal length (cm)\", size=\"petal width (cm)\", \n",
        "              color=\"species\", color_discrete_map = {\"Joly\": \"blue\", \"Bergeron\": \"violet\", \"Coderre\":\"pink\"})"
      ],
      "metadata": {
        "id": "HmHAg1Wv4dtW"
      },
      "execution_count": null,
      "outputs": []
    },
    {
      "cell_type": "code",
      "metadata": {
        "id": "H0I186zkAUEm"
      },
      "source": [
        "# Agrupamiento\n",
        "\n",
        "# Importa la clase KMeans de scikit-learn.\n",
        "# Posteriomente, crea un objeto de la clase Kmeans\n",
        "# con n_clusters = 2. Este objeto realmente es un modelo\n",
        "# por lo tanto, entrenalo con el conjunto Iris (usa iris.data).\n",
        "# Tu código empieza aquí\n",
        "\n",
        "# Tu código termina aquí\n",
        "\n",
        "# Resultados del agrupamiento\n",
        "print(\"Agrupamiento para setosa\")\n",
        "print(\"K-means\\n\", kmeans.labels_[0:50])\n",
        "print(\"Target\\n\", iris.target[0:50])\n",
        "print(\"Agrupamiento para versicolor\")\n",
        "print(\"K-means\\n\", kmeans.labels_[50:100])\n",
        "print(iris.target[50:100])\n",
        "print(\"Agrupamiento para virginica\")\n",
        "print(\"K-means\\n\", kmeans.labels_[100:150])\n",
        "print(\"Target\\n\", iris.target[100:150])"
      ],
      "execution_count": null,
      "outputs": []
    },
    {
      "cell_type": "code",
      "source": [
        "# Reducción de dimensionalidad\n",
        "\n",
        "# Importa la clase matplotlib.pyplot como plt.\n",
        "# Posteriomente, import la clase PCA de scikit-learn.\n",
        "# Tu código empieza aquí\n",
        "\n",
        "# Tu código termina aquí\n",
        "\n",
        "iris_reducido = PCA(n_components=2).fit_transform(iris.data)\n",
        "plt.scatter(iris_reducido[:, 0], iris_reducido[:, 1], c=iris.target)\n",
        "plt.xlabel('Primer vector propio')\n",
        "plt.ylabel('Segundo vector propio')\n",
        "plt.show()"
      ],
      "metadata": {
        "id": "dbh0tYdeAHk-"
      },
      "execution_count": null,
      "outputs": []
    }
  ]
}