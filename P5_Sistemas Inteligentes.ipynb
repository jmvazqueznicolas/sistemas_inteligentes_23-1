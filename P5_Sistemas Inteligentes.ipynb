{
  "cells": [
    {
      "cell_type": "markdown",
      "metadata": {
        "id": "UyolNIDVyc8b"
      },
      "source": [
        "<a href=\"https://githubtocolab.com/jmvazqueznicolas/sistemas_inteligentes_23-1/blob/master/P5_Sistemas%20Inteligentes.ipynb\" target=\"_parent\"><img src=\"https://colab.research.google.com/assets/colab-badge.svg\" alt=\"Open in Colab\"/></a>"
      ]
    },
    {
      "cell_type": "markdown",
      "metadata": {
        "id": "5fTKbfx9yc8k"
      },
      "source": [
        "## Práctica 5. Sistemas Inteligentes\n",
        "\n",
        "### Objetivos\n",
        "#### 1.- Que el alumno implemente un algoritmo de clasificación, como tarea básica en el aprendizaje supervisado.\n",
        "### Marco teórico\n",
        "#### El alumno debe investigar sobre el aprendiaje supervisado y en particular sobre los algoritmos de clasificación. "
      ]
    },
    {
      "cell_type": "markdown",
      "metadata": {
        "id": "LCNZEacdyc8o"
      },
      "source": [
        "### Desarrollo"
      ]
    },
    {
      "cell_type": "markdown",
      "metadata": {
        "id": "NJTuiSCu7jgS"
      },
      "source": [
        "### 1.- Implementa el algoritmo de K vecinos más cercanos, para el problema de clasificación de frutas. "
      ]
    },
    {
      "cell_type": "code",
      "execution_count": null,
      "metadata": {
        "colab": {
          "base_uri": "https://localhost:8080/",
          "height": 301
        },
        "id": "CG77p0bu7qYB",
        "outputId": "fd36b945-4b74-4600-fa45-19c5221a0360"
      },
      "outputs": [
        {
          "data": {
            "text/plain": [
              "<matplotlib.legend.Legend at 0x7f20c0d71a10>"
            ]
          },
          "execution_count": 31,
          "metadata": {},
          "output_type": "execute_result"
        },
        {
          "data": {
            "image/png": "[encoded data removed]",
            "text/plain": [
              "<Figure size 432x288 with 1 Axes>"
            ]
          },
          "metadata": {
            "needs_background": "light"
          },
          "output_type": "display_data"
        }
      ],
      "source": [
        "import matplotlib.pyplot as plt\n",
        "import numpy as np\n",
        "\n",
        "plt.grid(True)\n",
        "plt.xlim([0, 20])\n",
        "plt.ylim([0, 100])\n",
        "plt.xlabel(\"Diametro [cm]\")\n",
        "plt.ylabel(\"Intensidad de color [%]\")\n",
        "\n",
        "naranjas = [[10, 15, 12, 13, 14], [75, 60, 67, 95, 78]]\n",
        "fresas = [[8, 7, 5, 9, 8], [20, 30, 37, 20, 13]]\n",
        "plt.figure(1)\n",
        "plt.plot(naranjas[0], naranjas[1], 'o', color='orange', label=\"Naranjas\")\n",
        "plt.plot(fresas[0], fresas[1], 'rs', label=\"Fresas\")\n",
        "plt.legend()"
      ]
    },
    {
      "cell_type": "code",
      "execution_count": null,
      "metadata": {
        "id": "LoLFyJfr9ghl"
      },
      "outputs": [],
      "source": []
    },
    {
      "cell_type": "code",
      "execution_count": null,
      "metadata": {
        "id": "qAjo1omjB03p"
      },
      "outputs": [],
      "source": [
        "# Datos de entrenamiento\n",
        "X = [[10, 75], [15, 60], [12, 67], [13, 95], [14, 78], \n",
        "     [8, 20], [7, 30], [5, 37], [9, 20], [8, 13]]\n",
        "labels = [1, 1, 1, 1, 1, 0, 0, 0, 0, 0]"
      ]
    },
    {
      "cell_type": "code",
      "execution_count": null,
      "metadata": {
        "id": "plJs5aeeRdZA"
      },
      "outputs": [],
      "source": []
    },
    {
      "cell_type": "markdown",
      "metadata": {
        "id": "7h5x04GJyc8q"
      },
      "source": [
        "### 2.-  Crea un programa que permita reconocer digitos escritos a mano, usando un subconjunto de la base de datos [MNIST](https://interactivechaos.com/es/manual/tutorial-de-deep-learning/el-dataset-mnist). Puedes probar un ejemplo de esta aplicación [aqui](https://ufal.mff.cuni.cz/~straka/courses/npfl114/2021/demos/mnist_web.html)\n",
        "<img src=\"https://upload.wikimedia.org/wikipedia/commons/2/27/MnistExamples.png\" width=400 height=200 />"
      ]
    },
    {
      "cell_type": "code",
      "execution_count": 1,
      "metadata": {
        "id": "Lf-BrcuKyc8r"
      },
      "outputs": [],
      "source": [
        "from ______ import ____\n",
        "# Biblioteca para graficar\n",
        "import _____ as ___"
      ]
    },
    {
      "cell_type": "code",
      "execution_count": null,
      "metadata": {
        "id": "6z-UynWx3jlX"
      },
      "outputs": [],
      "source": [
        "digitos = ____\n",
        "print(____)"
      ]
    },
    {
      "cell_type": "code",
      "execution_count": null,
      "metadata": {
        "id": "oMT1Xgna33h-"
      },
      "outputs": [],
      "source": [
        "print('Dimensiones del dataset', digitos.images.shape)\n",
        "print(digitos.images[1])\n",
        "print('Esto es el target', digitos.target)\n",
        "for etiqueta in digitos.target:\n",
        "  print(etiqueta)"
      ]
    },
    {
      "cell_type": "code",
      "execution_count": null,
      "metadata": {
        "id": "x2dtWcor35Du"
      },
      "outputs": [],
      "source": [
        "figure, axes = plt.subplots(nrows=5, ncols=10, figsize=(6, 4))\n",
        "for item in zip(axes.ravel(), digitos.images, digitos.target):\n",
        "  axes, image, target = item\n",
        "  axes.imshow(image, cmap=plt.cm.gray_r)\n",
        "  axes.set_xticks([])\n",
        "  axes.set_yticks([])\n",
        "  axes.set_title(target)\n",
        "  plt.tight_layout()"
      ]
    },
    {
      "cell_type": "code",
      "execution_count": 5,
      "metadata": {
        "id": "HcVsNh7M8eJ6"
      },
      "outputs": [],
      "source": [
        "# Seperar los datos en entrenamiento y validacion\n",
        "from sklearn.model_selection import _____\n",
        "\n",
        "X_train, X_test, y_train, y_test = ____(\n",
        "    digitos.data, digitos.target, test_size=___\n",
        ")"
      ]
    },
    {
      "cell_type": "code",
      "execution_count": null,
      "metadata": {
        "id": "nzqESCeZ8eUI"
      },
      "outputs": [],
      "source": [
        "print('Cantidad de datos de entrenamiento', X_train.____)\n",
        "print('Cantidad de datos de prueba', X_test.____)"
      ]
    },
    {
      "cell_type": "code",
      "execution_count": null,
      "metadata": {
        "id": "4K1ktHC98eeL"
      },
      "outputs": [],
      "source": [
        "from sklearn.neighbors import ____\n",
        "\n",
        "knn = ____(n_neighbors=____) # Este es el modelo \n",
        "knn.fit(X=X_train, y=y_train) # Entrenando el modelo"
      ]
    },
    {
      "cell_type": "code",
      "execution_count": null,
      "metadata": {
        "id": "fZYbn_JxCxTM"
      },
      "outputs": [],
      "source": [
        "prediccion = knn.predict(X=____)\n",
        "resultado_esperado = _____\n",
        "\n",
        "print(f'La prediccion es {prediccion[:50]}')\n",
        "print(f'Lo esperado es   {resultado_esperado[:50]}')"
      ]
    },
    {
      "cell_type": "code",
      "execution_count": null,
      "metadata": {
        "id": "o6dgw5TxCycL"
      },
      "outputs": [],
      "source": [
        "error = 0\n",
        "for (p, e) in zip(prediccion, resultado_esperado):\n",
        "  if p != e:\n",
        "    error += 1\n",
        "\n",
        "error_p = (error/len(prediccion)) * 100\n",
        "print(f'El error porcentual es {error_p}')"
      ]
    }
  ],
  "metadata": {
    "colab": {
      "name": "P5_Sistemas Inteligentes.ipynb",
      "provenance": []
    },
    "kernelspec": {
      "display_name": "Python 3.8.10 64-bit",
      "language": "python",
      "name": "python3"
    },
    "language_info": {
      "name": "python",
      "version": "3.8.10"
    },
    "orig_nbformat": 4,
    "vscode": {
      "interpreter": {
        "hash": "916dbcbb3f70747c44a77c7bcd40155683ae19c65e1c03b4aa3499c5328201f1"
      }
    }
  },
  "nbformat": 4,
  "nbformat_minor": 0
}
