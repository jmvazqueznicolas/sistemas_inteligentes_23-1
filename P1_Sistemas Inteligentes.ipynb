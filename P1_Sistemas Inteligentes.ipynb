{
  "cells": [
    {
      "cell_type": "markdown",
      "metadata": {
        "colab_type": "text",
        "id": "view-in-github"
      },
      "source": [
        "<a href=\"https://colab.research.google.com/github/jmvazqueznicolas/sistemas_inteligentes_23-1/blob/master/P1_Sistemas%20Inteligentes.ipynb\" target=\"_parent\"><img src=\"https://colab.research.google.com/assets/colab-badge.svg\" alt=\"Open In Colab\"/></a>"
      ]
    },
    {
      "cell_type": "markdown",
      "metadata": {},
      "source": [
        "## Práctica 1. Sistemas Inteligentes\n",
        "\n",
        "### Objetivos\n",
        "#### 1.- Que el alumno conozca el entorno de Colab de Google\n",
        "#### 2.- Que el alumno identifique la sintaxis básica del lenguaje Python\n",
        "#### 3.- Que el alumno conozco los tipos de datos básicos y estructuras de control básicas de Python\n",
        "\n",
        "### Marco teórico\n",
        "#### El alumno debe investigar qué es Colab, qué es Python y cuales son sus aplicaciones e importancia en los sistemas inteligentes"
      ]
    },
    {
      "cell_type": "markdown",
      "metadata": {},
      "source": [
        "### Desarrollo"
      ]
    },
    {
      "cell_type": "markdown",
      "metadata": {
        "id": "IjAnMSs2LJcb"
      },
      "source": [
        "### 1.- Escribe un programa que pregunte el nombre del usuario en la consola y que le muestre un mensaje de bienvenida utilizando su nombre. Despues modificalo para que solicite y muestre tambien la edad y fecha de nacimiento.  "
      ]
    },
    {
      "cell_type": "code",
      "execution_count": null,
      "metadata": {
        "id": "FAsr9Krcle85"
      },
      "outputs": [],
      "source": []
    },
    {
      "cell_type": "markdown",
      "metadata": {
        "id": "bMR4BAjfLVBL"
      },
      "source": [
        "### 2.- Escribe un programa que calcule cuanto se le debe pagar a un trabajador, donde la información de entrada es el número de horas trabajadas y el pago por hora. Despues modifiquelo para que tambien pida el nombre, la edad y el RFC del trabajador y lo muestre junto con su salario. "
      ]
    },
    {
      "cell_type": "code",
      "execution_count": null,
      "metadata": {
        "id": "Q4ZN9-Rsl4eI"
      },
      "outputs": [],
      "source": []
    },
    {
      "cell_type": "markdown",
      "metadata": {
        "id": "VM5u2HyqLhly"
      },
      "source": [
        "### 3.- Escribe un programa que calcule la suma de los primeros 100 números naturales. Modifiquelo para que haga la suma de los primeros *n* números naturales."
      ]
    },
    {
      "cell_type": "code",
      "execution_count": null,
      "metadata": {
        "id": "KJvJ6Wral52-"
      },
      "outputs": [],
      "source": []
    },
    {
      "cell_type": "markdown",
      "metadata": {},
      "source": [
        "### 4.- Escribe un programa que permita calcular el indice de masa coorporal de una persona. Si el indice es menor a 26, que muestre un mensaje de \"peso normal\", si es mayor a 26 y menor a 32, que muestre un mensaje que alerte de sobrepeso, si es superior a 32 y menor a 45, alerte de obesidad y si es mayor que 45, indique obesidad extrema\n"
      ]
    },
    {
      "cell_type": "code",
      "execution_count": null,
      "metadata": {
        "id": "TmSOmoODl6NK"
      },
      "outputs": [],
      "source": []
    }
  ],
  "metadata": {
    "colab": {
      "authorship_tag": "ABX9TyMgA7ZvdFXeAS2nrP5aO7T4",
      "include_colab_link": true,
      "name": "Práctica 1. Sistemas Inteligentes",
      "provenance": []
    },
    "kernelspec": {
      "display_name": "Python 3.8.10 64-bit",
      "language": "python",
      "name": "python3"
    },
    "language_info": {
      "codemirror_mode": {
        "name": "ipython",
        "version": 3
      },
      "file_extension": ".py",
      "mimetype": "text/x-python",
      "name": "python",
      "nbconvert_exporter": "python",
      "pygments_lexer": "ipython3",
      "version": "3.8.10"
    },
    "vscode": {
      "interpreter": {
        "hash": "916dbcbb3f70747c44a77c7bcd40155683ae19c65e1c03b4aa3499c5328201f1"
      }
    }
  },
  "nbformat": 4,
  "nbformat_minor": 2
}
