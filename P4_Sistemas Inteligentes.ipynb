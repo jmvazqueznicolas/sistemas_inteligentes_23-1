{
 "cells": [
  {
   "cell_type": "markdown",
   "metadata": {},
   "source": [
    "<a href=\"https://githubtocolab.com/jmvazqueznicolas/sistemas_inteligentes_23-1/blob/master/P4_Sistemas%20Inteligentes.ipynb\" target=\"_parent\"><img src=\"https://colab.research.google.com/assets/colab-badge.svg\" alt=\"Open in Colab\"/></a>"
   ]
  },
  {
   "cell_type": "markdown",
   "metadata": {},
   "source": [
    "## Práctica 4. Sistemas Inteligentes\n",
    "\n",
    "### Objetivos\n",
    "#### 1.- Que el alumno identifique el uso de excepciones.\n",
    "#### 2.- Que el alumno realice la manipulacion de archivos con Pandas.\n",
    "#### 3.- Que el alumno conozca los fundamentos de POO en Python.\n",
    "\n",
    "### Marco teórico\n",
    "#### El alumno debe investigar la utilidad y aplicaciones de la biblioteca Pandas y sobre la POO en Python."
   ]
  },
  {
   "cell_type": "markdown",
   "metadata": {},
   "source": [
    "### Desarrollo"
   ]
  },
  {
   "cell_type": "markdown",
   "metadata": {},
   "source": [
    "### 1.- Crea un programa que calcule el factorial de un entero dado por el usuario. Dicho programa debe considerar las excepciones que pueden surgir en este programa y manejarlas. Al final de la ejecución, envie un mensaje recordando no olvidar liberar recursos."
   ]
  },
  {
   "cell_type": "code",
   "execution_count": null,
   "metadata": {},
   "outputs": [],
   "source": []
  },
  {
   "cell_type": "markdown",
   "metadata": {},
   "source": [
    "### 2.- Escribe un programa que permita crear una clase CuentaBancaria, la cual tiene un método que para añadir dinero a la cuenta. Posteriormente, instancie un objeto de la clase CuentaBancaria con un nombre y saldo inicial. Finalmente use el método depositar para modificar el saldo. \n",
    "\n",
    "<img src=\"https://cdn2.dineroenimagen.com/media/dinero/styles/gallerie/public/images/2017/06/banco-g.jpg\" width=300 height=150 />\n"
   ]
  },
  {
   "cell_type": "code",
   "execution_count": null,
   "metadata": {},
   "outputs": [],
   "source": []
  },
  {
   "cell_type": "markdown",
   "metadata": {},
   "source": [
    "### 3.- Escribe un programa que permita descargar el <i>Titanic Disaster dataset</i>, mostrar los primeros y últimos datos, cambiar el nombre de las columnas, sus datos estadísticos y graficarlos.\n",
    "<img src=\"https://ichef.bbci.co.uk/news/640/cpsprodpb/15A5F/production/_115017688_c6122844-332e-4516-a812-e56991e9374a.jpg\" width=300 height=150 />\n"
   ]
  },
  {
   "cell_type": "code",
   "execution_count": null,
   "metadata": {},
   "outputs": [],
   "source": []
  }
 ],
 "metadata": {
  "kernelspec": {
   "display_name": "Python 3 (ipykernel)",
   "language": "python",
   "name": "python3"
  },
  "language_info": {
   "codemirror_mode": {
    "name": "ipython",
    "version": 3
   },
   "file_extension": ".py",
   "mimetype": "text/x-python",
   "name": "python",
   "nbconvert_exporter": "python",
   "pygments_lexer": "ipython3",
   "version": "3.8.10"
  }
 },
 "nbformat": 4,
 "nbformat_minor": 2
}
