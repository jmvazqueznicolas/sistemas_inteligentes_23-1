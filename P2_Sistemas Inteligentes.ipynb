{
  "cells": [
    {
      "cell_type": "markdown",
      "metadata": {},
      "source": [
        "<a href=\"https://githubtocolab.com/jmvazqueznicolas/sistemas_inteligentes_23-1/blob/master/P2_Sistemas%20Inteligentes.ipynb\" target=\"_parent\"><img src=\"https://colab.research.google.com/assets/colab-badge.svg\" alt=\"Open in Colab\"/></a>"
      ]
    },
    {
      "cell_type": "markdown",
      "metadata": {
        "id": "p7gQXSbxmAO4"
      },
      "source": [
        "## Práctica 2. Sistemas Inteligentes\n",
        "\n",
        "### Objetivos\n",
        "#### 1.- Que el alumno conozca estructuras de datos como son las listas, las tuplas y los diccionarios en Python.\n",
        "#### 2.- Que el alumno implemente funciones en Python.\n",
        "\n",
        "### Marco teórico\n",
        "#### El alumno debe investigar la utilidad y aplicaciones de las listas, tuplas y diccionarios de Python."
      ]
    },
    {
      "cell_type": "markdown",
      "metadata": {},
      "source": [
        "### Desarrollo"
      ]
    },
    {
      "cell_type": "markdown",
      "metadata": {
        "id": "IjAnMSs2LJcb"
      },
      "source": [
        "### 1.- Para pagar impuestos en México, se debe ser mayor de 18 años y tener ingresos mayores a 400,000 pesos. Escribir un programa que permita saber, en función de datos proporcionados por el usuario, si deben presentar declaración o no. Otra condición para presentar la declaración, es haber tenido dos o más patrones en el año, aunque no se haya obtenido más de 400,000 pesos. Modifique el programa para esta condición."
      ]
    },
    {
      "cell_type": "code",
      "execution_count": null,
      "metadata": {
        "id": "FAsr9Krcle85"
      },
      "outputs": [],
      "source": []
    },
    {
      "cell_type": "markdown",
      "metadata": {
        "id": "bMR4BAjfLVBL"
      },
      "source": [
        "### 2.- Escribe un programa que capture los nombres y las calificaciones de los alumnos de la clase. Estos datos deben ser agregados a una lista. Al final de la captura de datos, muestre el contenido de la lista generada. "
      ]
    },
    {
      "cell_type": "code",
      "execution_count": null,
      "metadata": {
        "id": "Q4ZN9-Rsl4eI"
      },
      "outputs": [],
      "source": []
    },
    {
      "cell_type": "markdown",
      "metadata": {},
      "source": [
        "### 3.- Crea una función que regrese el nombre de cierto mes del año, dado un número (i.e. enero→ 1 , febrero→ 2 , marzo → 3 , etc). Si el número no es válido, que regrese un mensaje que lo indique."
      ]
    },
    {
      "cell_type": "code",
      "execution_count": null,
      "metadata": {},
      "outputs": [],
      "source": []
    },
    {
      "cell_type": "markdown",
      "metadata": {},
      "source": [
        "### 4.- Crea una función de suma de la población de dos estados de la república que reciba como parámetros (en forma de lista). Los datos de los estados y sus poblaciones deben estar almacenados en un diccionario. En una segunda celda, solicita al usuario los dos estados y manda a llamar la función, de la primer celda.\n",
        "\n",
        "<img src=\"https://images-mlproduction.s3.amazonaws.com/poblacion_mexico_2020.png\">"
      ]
    },
    {
      "cell_type": "code",
      "execution_count": null,
      "metadata": {
        "id": "TmSOmoODl6NK"
      },
      "outputs": [],
      "source": []
    }
  ],
  "metadata": {
    "colab": {
      "authorship_tag": "ABX9TyMgA7ZvdFXeAS2nrP5aO7T4",
      "include_colab_link": true,
      "name": "Práctica 2. Sistemas Inteligentes",
      "provenance": []
    },
    "interpreter": {
      "hash": "9275cb9e11faf44a24676a000d30cea17479a848a8b0091a4ac7b5a333b6ab87"
    },
    "kernelspec": {
      "display_name": "Python 3.6.10 64-bit ('actumlogos-cpu-prueba': conda)",
      "name": "python3"
    },
    "language_info": {
      "codemirror_mode": {
        "name": "ipython",
        "version": 3
      },
      "file_extension": ".py",
      "mimetype": "text/x-python",
      "name": "python",
      "nbconvert_exporter": "python",
      "pygments_lexer": "ipython3",
      "version": "3.8.12"
    }
  },
  "nbformat": 4,
  "nbformat_minor": 2
}
